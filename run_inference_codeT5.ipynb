{
 "cells": [
  {
   "cell_type": "code",
   "execution_count": null,
   "metadata": {
    "vscode": {
     "languageId": "plaintext"
    }
   },
   "outputs": [],
   "source": [
    "import os\n",
    "import torch\n",
    "import requests\n",
    "import re\n",
    "import ast\n",
    "import astunparse\n",
    "import numpy as np\n",
    "from tqdm import tqdm\n",
    "from datasets import load_dataset\n",
    "from rank_bm25 import BM25Okapi\n",
    "from transformers import AutoTokenizer, AutoModelForSeq2SeqLM\n",
    "\n",
    "# GitHub API 토큰 (반드시 유효한 토큰으로 변경)\n",
    "github_token = \"use your own token\"\n",
    "\n",
    "# Fine-tuned 모델이 저장된 디렉토리\n",
    "model_dir = \"./codet5-finetuned-swe-bench-optimized\"\n",
    "tokenizer = AutoTokenizer.from_pretrained(model_dir)\n",
    "model = AutoModelForSeq2SeqLM.from_pretrained(model_dir)\n",
    "device = torch.device(\"cuda\" if torch.cuda.is_available() else \"cpu\")\n",
    "model.to(device)"
   ]
  },
  {
   "cell_type": "code",
   "execution_count": null,
   "metadata": {
    "vscode": {
     "languageId": "plaintext"
    }
   },
   "outputs": [],
   "source": [
    "# GitHub API를 통해 변경된 파일 목록을 가져오는 함수\n",
    "def get_changed_files_api(repo_owner, repo_name, base_commit, github_token):\n",
    "    api_url = f\"https://api.github.com/repos/{repo_owner}/{repo_name}/compare/{base_commit}^...{base_commit}\"\n",
    "    headers = {\"Authorization\": f\"token {github_token}\", \"Accept\": \"application/vnd.github.v3+json\"}\n",
    "    try:\n",
    "        response = requests.get(api_url, headers=headers)\n",
    "        response.raise_for_status()\n",
    "        comparison = response.json()\n",
    "        changed_files = [file[\"filename\"] for file in comparison[\"files\"]]\n",
    "        return changed_files\n",
    "    except requests.exceptions.RequestException as e:\n",
    "        print(f\"Error retrieving changed files: {e}\")\n",
    "        return None\n",
    "\n",
    "# GitHub API를 통해 특정 commit의 파일 코드를 가져오는 함수\n",
    "def get_code_from_commit_api(repo_owner, repo_name, commit_hash, changed_files, github_token):\n",
    "    headers = {\"Authorization\": f\"token {github_token}\", \"Accept\": \"application/vnd.github.v3.raw\"}\n",
    "    base_code_dict = {}\n",
    "    for file_path in changed_files:\n",
    "        api_url = f\"https://api.github.com/repos/{repo_owner}/{repo_name}/contents/{file_path}?ref={commit_hash}\"\n",
    "        try:\n",
    "            response = requests.get(api_url, headers=headers)\n",
    "            response.raise_for_status()\n",
    "            base_code_dict[file_path] = response.text\n",
    "        except requests.exceptions.RequestException as e:\n",
    "            print(f\"Error retrieving code for {file_path}: {e}\")\n",
    "            return None\n",
    "    return base_code_dict"
   ]
  },
  {
   "cell_type": "code",
   "execution_count": null,
   "metadata": {
    "vscode": {
     "languageId": "plaintext"
    }
   },
   "outputs": [],
   "source": [
    "# 간단한 전처리: 긴 주석 제거\n",
    "def remove_long_comments(code):\n",
    "    code = re.sub(r'\"\"\".*?\"\"\"', '', code, flags=re.DOTALL)\n",
    "    code = re.sub(r\"'''.*?'''\", '', code, flags=re.DOTALL)\n",
    "    return code\n",
    "\n",
    "# AST를 이용해 함수 단위로 코드를 분리하는 클래스 및 함수\n",
    "class FunctionVisitor(ast.NodeVisitor):\n",
    "    def __init__(self, file_path):\n",
    "        super().__init__()\n",
    "        self.functions = []\n",
    "        self.file_path = file_path\n",
    "\n",
    "    def visit_FunctionDef(self, node):\n",
    "        self.functions.append({\n",
    "            \"name\": node.name,\n",
    "            \"code\": astunparse.unparse(node),\n",
    "            \"start_line\": node.lineno,\n",
    "            \"end_line\": node.end_lineno,\n",
    "            \"filepath\": self.file_path\n",
    "        })\n",
    "        self.generic_visit(node)\n",
    "\n",
    "    def visit_AsyncFunctionDef(self, node):\n",
    "        self.functions.append({\n",
    "            \"name\": node.name,\n",
    "            \"code\": astunparse.unparse(node),\n",
    "            \"start_line\": node.lineno,\n",
    "            \"end_line\": node.end_lineno,\n",
    "            \"filepath\": self.file_path\n",
    "        })\n",
    "        self.generic_visit(node)\n",
    "\n",
    "def split_code_into_functions_ast(code_text, file_path):\n",
    "    code_text = remove_long_comments(code_text)\n",
    "    try:\n",
    "        tree = ast.parse(code_text)\n",
    "        visitor = FunctionVisitor(file_path)\n",
    "        visitor.visit(tree)\n",
    "        return visitor.functions\n",
    "    except Exception as e:\n",
    "        print(f\"Error parsing code from {file_path}: {e}\")\n",
    "        return []"
   ]
  },
  {
   "cell_type": "code",
   "execution_count": null,
   "metadata": {
    "vscode": {
     "languageId": "plaintext"
    }
   },
   "outputs": [],
   "source": [
    "def find_relevant_functions(problem_statement, all_functions):\n",
    "    func_texts = [func[\"code\"] for func in all_functions]\n",
    "    tokenized_functions = [tokenizer.tokenize(text) for text in func_texts]\n",
    "    bm25 = BM25Okapi(tokenized_functions)\n",
    "    tokenized_query = tokenizer.tokenize(problem_statement)\n",
    "    doc_scores = bm25.get_scores(tokenized_query)\n",
    "    \n",
    "    top_n = 3  # 상위 3개 함수 선택\n",
    "    top_indices = np.argsort(doc_scores)[::-1][:top_n]\n",
    "    return [all_functions[i] for i in top_indices]"
   ]
  },
  {
   "cell_type": "code",
   "execution_count": null,
   "metadata": {
    "vscode": {
     "languageId": "plaintext"
    }
   },
   "outputs": [],
   "source": [
    "def generate_patch(example):\n",
    "    repo = example[\"repo\"]\n",
    "    base_commit = example[\"base_commit\"]\n",
    "    problem_statement = example[\"problem_statement\"]\n",
    "\n",
    "    # GitHub에서 변경된 파일 가져오기\n",
    "    repo_owner, repo_name = repo.split(\"/\")\n",
    "    changed_files = get_changed_files_api(repo_owner, repo_name, base_commit, github_token)\n",
    "    if not changed_files:\n",
    "        print(f\"No changed files found for commit {base_commit}.\")\n",
    "        return None\n",
    "\n",
    "    changed_files = [f for f in changed_files if f.endswith(\".py\")]\n",
    "    if not changed_files:\n",
    "        print(f\"No .py files found for commit {base_commit}.\")\n",
    "        return None\n",
    "\n",
    "    # 코드 가져오기\n",
    "    base_code_dict = get_code_from_commit_api(repo_owner, repo_name, base_commit, changed_files, github_token)\n",
    "    if base_code_dict is None:\n",
    "        print(f\"Failed to retrieve code for commit {base_commit}.\")\n",
    "        return None\n",
    "\n",
    "    # 함수 단위로 분석\n",
    "    all_functions = []\n",
    "    for file_path, base_code in base_code_dict.items():\n",
    "        funcs = split_code_into_functions_ast(base_code, file_path)\n",
    "        all_functions.extend(funcs)\n",
    "\n",
    "    if not all_functions:\n",
    "        print(f\"No functions found in commit {base_commit}.\")\n",
    "        return None\n",
    "\n",
    "    # 관련 코드 선택\n",
    "    selected_functions = find_relevant_functions(problem_statement, all_functions)\n",
    "\n",
    "    # Prompt 생성\n",
    "    selected_code = \"\".join([\n",
    "        f\"File: {func['filepath']}, Function: {func['name']}\\nCode:\\n{func['code']}\\n\\n\"\n",
    "        for func in selected_functions\n",
    "    ])\n",
    "\n",
    "    prompt_input = (\n",
    "        f\"Issue: {problem_statement}\\n\"\n",
    "        f\"Code Context:\\n{selected_code}\\n\"\n",
    "        \"Task: Provide a patch to fix the issue.\"\n",
    "    )\n",
    "\n",
    "    inputs = tokenizer(\n",
    "        prompt_input, return_tensors=\"pt\", max_length=512, truncation=True, padding=\"max_length\"\n",
    "    ).to(device)\n",
    "\n",
    "    # 패치 생성\n",
    "    with torch.no_grad():\n",
    "        outputs = model.generate(\n",
    "            **inputs,\n",
    "            max_new_tokens=256,\n",
    "            pad_token_id=tokenizer.eos_token_id,\n",
    "            num_beams=5,\n",
    "            early_stopping=True\n",
    "        )\n",
    "\n",
    "    return tokenizer.decode(outputs[0], skip_special_tokens=True)"
   ]
  },
  {
   "cell_type": "code",
   "execution_count": null,
   "metadata": {
    "vscode": {
     "languageId": "plaintext"
    }
   },
   "outputs": [],
   "source": [
    "# 데이터셋 로드\n",
    "inference_dataset = load_dataset(\"princeton-nlp/SWE-bench_Verified\", split=\"test\")\n",
    "\n",
    "# 저장 디렉토리 생성\n",
    "output_dir = \"patches_verified\"\n",
    "os.makedirs(output_dir, exist_ok=True)"
   ]
  },
  {
   "cell_type": "code",
   "execution_count": null,
   "metadata": {
    "vscode": {
     "languageId": "plaintext"
    }
   },
   "outputs": [],
   "source": [
    "# 추론 루프: 각 예제에 대해 패치를 생성하여 파일로 저장\n",
    "for idx, example in enumerate(tqdm(inference_dataset, desc=\"Inference on Verified Dataset\")):\n",
    "    patch = generate_patch(example)\n",
    "    if patch:\n",
    "        with open(os.path.join(output_dir, f\"patch_{idx}.txt\"), \"w\", encoding=\"utf-8\") as f:\n",
    "            f.write(patch)\n",
    "        print(f\"Example {idx} generated patch:\\n{patch}\\n\")\n",
    "    else:\n",
    "        print(f\"Example {idx}: Patch generation skipped.\")"
   ]
  }
 ],
 "metadata": {
  "language_info": {
   "name": "python"
  }
 },
 "nbformat": 4,
 "nbformat_minor": 2
}
