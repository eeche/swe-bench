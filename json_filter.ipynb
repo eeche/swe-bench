{
 "cells": [
  {
   "cell_type": "markdown",
   "metadata": {},
   "source": [
    "json형식으로 유의미한 결과만 filtering"
   ]
  },
  {
   "cell_type": "code",
   "execution_count": null,
   "metadata": {
    "vscode": {
     "languageId": "plaintext"
    }
   },
   "outputs": [],
   "source": [
    "import json\n",
    "import re\n",
    "\n",
    "pattern = re.compile(r\"```(?:python\\s+)?(diff.*?)```\", re.DOTALL)\n",
    "\n",
    "def extract_diff_blocks(text: str) -> str:\n",
    "    matches = pattern.findall(text)\n",
    "    if not matches:\n",
    "        return \"\"\n",
    "    return \"\\n\\n\".join(matches)\n",
    "\n",
    "def main():\n",
    "    input_file = \"patch_results.jsonl\"\n",
    "    output_file = \"pred.json\"\n",
    "\n",
    "    new_data = []\n",
    "\n",
    "    with open(input_file, \"r\", encoding=\"utf-8\") as fin:\n",
    "        for line in fin:\n",
    "            line = line.strip()\n",
    "            if not line:\n",
    "                continue\n",
    "\n",
    "            rec\"model_patch\" in record:\n",
    "                extracted = extract_diff_blocks(record[\"model_patch\"])\n",
    "                record[\"model_patch\"] = extracted\n",
    "            new_data.append(record)\n",
    "\n",
    "    # 이제 new_data는 [{...}, {...}, ...] 형태의 파이썬 리스트\n",
    "    # => 이를 하나의 JSON 배열로 저장\n",
    "    with open(output_file, \"w\", encoding=\"utf-8\") as fout:\n",
    "        json.dump(new_data, fout, ensure_ascii=False, indent=2)\n",
    "\n",
    "    print(f\"단ord = json.loads(line)  # 각 줄마다 JSON 파싱\n",
    "            if 일 JSON 배열로 변환 완료: '{output_file}'에 저장되었습니다.\")\n",
    "\n",
    "if __name__ == \"__main__\":\n",
    "    main()\n"
   ]
  },
  {
   "cell_type": "markdown",
   "metadata": {},
   "source": [
    "jsonl형식으로 유의미한 결과만 filtering"
   ]
  },
  {
   "cell_type": "code",
   "execution_count": null,
   "metadata": {
    "vscode": {
     "languageId": "plaintext"
    }
   },
   "outputs": [],
   "source": [
    "import json\n",
    "import re\n",
    "\n",
    "# 정규표현식:\n",
    "#   1) ```diff ... ``` 또는\n",
    "#   2) ```python diff ... ```\n",
    "# 로 시작해서\n",
    "#   3) ``` (삼중 백틱) 로 끝날 때까지 매칭\n",
    "# 백틱 포함해서 전부가 아닌,\n",
    "#   \"diff\"부터 ``` 직전까지를 (diff.*?) 로 캡처 (DOTALL 사용)\n",
    "pattern = re.compile(r\"```(?:python\\s+)?(diff.*?)```\", re.DOTALL)\n",
    "\n",
    "def extract_diff_blocks(text: str) -> str:\n",
    "    \"\"\"\n",
    "    text 문자열 안에서\n",
    "    ```diff ... ``` 또는 ```python diff ... ```\n",
    "    블록을 모두 찾아 '\\n\\n'로 연결한 문자열로 반환.\n",
    "    하나도 못 찾으면 빈 문자열 반환.\n",
    "    \"\"\"\n",
    "    matches = pattern.findall(text)\n",
    "    if not matches:\n",
    "        return \"\"\n",
    "    return \"\\n\\n\".join(matches)\n",
    "\n",
    "def main():\n",
    "    input_file = \"patch_results.jsonl\"\n",
    "    output_file = \"pred.jsonl\"\n",
    "\n",
    "    # 최종 결과 저장용 리스트 (줄단위 그대로 다시 JSONL로 쓸 거라면, 리스트가 아니라 바로 파일에 쓸 수도 있음)\n",
    "    new_data = []\n",
    "\n",
    "    with open(input_file, \"r\", encoding=\"utf-8\") as fin:\n",
    "        for line in fin:\n",
    "            line = line.strip()\n",
    "            if not line:\n",
    "                continue\n",
    "\n",
    "            # 한 줄씩 JSON 로드\n",
    "            record = json.loads(line)\n",
    "            # model_patch 필드에서 diff 블록만 추출\n",
    "            if \"model_patch\" in record:\n",
    "                original_text = record[\"model_patch\"]\n",
    "                extracted = extract_diff_blocks(original_text)\n",
    "                record[\"model_patch\"] = extracted\n",
    "\n",
    "            new_data.append(record)\n",
    "\n",
    "    with open(output_file, \"w\", encoding=\"utf-8\") as fout:\n",
    "        for item in new_data:\n",
    "            fout.write(json.dumps(item, ensure_ascii=False) + \"\\n\")\n",
    "\n",
    "    print(f\"처리가 완료되었습니다. 결과는 '{output_file}'에 JSONL로 저장되었습니다.\")\n",
    "\n",
    "if __name__ == \"__main__\":\n",
    "    main()\n"
   ]
  }
 ],
 "metadata": {
  "language_info": {
   "name": "python"
  }
 },
 "nbformat": 4,
 "nbformat_minor": 2
}
