{
 "cells": [
  {
   "cell_type": "code",
   "execution_count": null,
   "metadata": {
    "vscode": {
     "languageId": "plaintext"
    }
   },
   "outputs": [],
   "source": [
    "import os\n",
    "import torch\n",
    "from transformers import AutoTokenizer, AutoModelForSeq2SeqLM\n",
    "from datasets import load_dataset\n",
    "import requests\n",
    "from tqdm import tqdm\n",
    "import time\n",
    "import ast\n",
    "import astunparse\n",
    "from rank_bm25 import BM25Okapi\n",
    "\n",
    "# GitHub API 토큰 (반드시 실제 토큰으로 변경)\n",
    "github_token = \"use your own token\"\n",
    "if github_token is None:\n",
    "    raise ValueError(\"GitHub API token not set.\")\n",
    "\n",
    "# 사전 학습된 CodeT5-small 모델 및 토크나이저 로드 (파인튜닝 없이 사용)\n",
    "model_name = \"Salesforce/codet5-small\"\n",
    "tokenizer = AutoTokenizer.from_pretrained(model_name)\n",
    "model = AutoModelForSeq2SeqLM.from_pretrained(model_name)\n",
    "\n",
    "# GPU 설정: GPU가 있으면 CUDA를 사용\n",
    "device = torch.device(\"cuda\" if torch.cuda.is_available() else \"cpu\")\n",
    "model.to(device)\n",
    "print(\"Using device:\", device)"
   ]
  },
  {
   "cell_type": "code",
   "execution_count": null,
   "metadata": {
    "vscode": {
     "languageId": "plaintext"
    }
   },
   "outputs": [],
   "source": [
    "# SWE-bench Lite 데이터셋의 test split을 로드\n",
    "test_dataset = load_dataset(\"princeton-nlp/SWE-bench_Lite\", split=\"test\")"
   ]
  },
  {
   "cell_type": "code",
   "execution_count": null,
   "metadata": {
    "vscode": {
     "languageId": "plaintext"
    }
   },
   "outputs": [],
   "source": [
    "# 변경된 파일 목록을 가져오는 함수\n",
    "def get_changed_files_api(repo_owner, repo_name, base_commit, github_token):\n",
    "    api_url = f\"https://api.github.com/repos/{repo_owner}/{repo_name}/compare/{base_commit}^...{base_commit}\"\n",
    "    headers = {\n",
    "        \"Authorization\": f\"token {github_token}\",\n",
    "        \"Accept\": \"application/vnd.github.v3+json\"\n",
    "    }\n",
    "    try:\n",
    "        response = requests.get(api_url, headers=headers)\n",
    "        response.raise_for_status()\n",
    "        comparison = response.json()\n",
    "        changed_files = [file[\"filename\"] for file in comparison[\"files\"]]\n",
    "        return changed_files\n",
    "    except requests.exceptions.RequestException as e:\n",
    "        print(f\"Error getting changed files for commit {base_commit}: {e}\")\n",
    "        return None\n",
    "\n",
    "# 변경된 파일의 코드를 가져오는 함수\n",
    "def get_code_from_commit_api(repo_owner, repo_name, commit_hash, changed_files, github_token):\n",
    "    headers = {\n",
    "        \"Authorization\": f\"token {github_token}\",\n",
    "        \"Accept\": \"application/vnd.github.v3.raw\"\n",
    "    }\n",
    "    base_code_dict = {}\n",
    "    for file_path in changed_files:\n",
    "        api_url = f\"https://api.github.com/repos/{repo_owner}/{repo_name}/contents/{file_path}?ref={commit_hash}\"\n",
    "        try:\n",
    "            response = requests.get(api_url, headers=headers)\n",
    "            response.raise_for_status()\n",
    "            base_code_dict[file_path] = response.text\n",
    "        except requests.exceptions.RequestException as e:\n",
    "            print(f\"Error retrieving code for file {file_path} in commit {commit_hash}: {e}\")\n",
    "            return None\n",
    "    return base_code_dict"
   ]
  },
  {
   "cell_type": "code",
   "execution_count": null,
   "metadata": {
    "vscode": {
     "languageId": "plaintext"
    }
   },
   "outputs": [],
   "source": [
    "# AST를 사용하여 함수 단위로 코드를 분할하는 클래스\n",
    "class FunctionVisitor(ast.NodeVisitor):\n",
    "    def __init__(self, file_path):\n",
    "        super().__init__()\n",
    "        self.functions = []\n",
    "        self.file_path = file_path\n",
    "\n",
    "    def visit_FunctionDef(self, node):\n",
    "        self.functions.append({\n",
    "            \"name\": node.name,\n",
    "            \"code\": astunparse.unparse(node),\n",
    "            \"start_line\": node.lineno,\n",
    "            \"end_line\": node.end_lineno,\n",
    "            \"filepath\": self.file_path\n",
    "        })\n",
    "        self.generic_visit(node)\n",
    "\n",
    "    def visit_AsyncFunctionDef(self, node):\n",
    "        self.functions.append({\n",
    "            \"name\": node.name,\n",
    "            \"code\": astunparse.unparse(node),\n",
    "            \"start_line\": node.lineno,\n",
    "            \"end_line\": node.end_lineno,\n",
    "            \"filepath\": self.file_path\n",
    "        })\n",
    "        self.generic_visit(node)\n",
    "\n",
    "# 함수 단위로 AST 파싱하는 함수\n",
    "def split_code_into_functions_ast(code_text, file_path):\n",
    "    try:\n",
    "        tree = ast.parse(code_text)\n",
    "        visitor = FunctionVisitor(file_path)\n",
    "        visitor.visit(tree)\n",
    "        return visitor.functions\n",
    "    except Exception as e:\n",
    "        print(f\"AST parsing error in {file_path}: {e}\")\n",
    "        return []"
   ]
  },
  {
   "cell_type": "code",
   "execution_count": null,
   "metadata": {
    "vscode": {
     "languageId": "plaintext"
    }
   },
   "outputs": [],
   "source": [
    "def generate_patch(example):\n",
    "    try:\n",
    "        # repo, commit, 문제 설명 정보 추출\n",
    "        repo_owner, repo_name = example[\"repo\"].split(\"/\")\n",
    "        commit_hash = example[\"base_commit\"]\n",
    "        problem_statement = example[\"problem_statement\"]\n",
    "\n",
    "        # GitHub API를 통해 변경된 파일 목록 및 코드 가져오기\n",
    "        changed_files = get_changed_files_api(repo_owner, repo_name, commit_hash, github_token)\n",
    "        if not changed_files:\n",
    "            print(f\"No changed files for commit {commit_hash}.\")\n",
    "            return None\n",
    "        # .py 파일만 사용\n",
    "        changed_files = [f for f in changed_files if f.endswith(\".py\")]\n",
    "        if not changed_files:\n",
    "            print(f\"No Python files for commit {commit_hash}.\")\n",
    "            return None\n",
    "\n",
    "        base_code_dict = get_code_from_commit_api(repo_owner, repo_name, commit_hash, changed_files, github_token)\n",
    "        if base_code_dict is None:\n",
    "            print(f\"Failed to retrieve code for commit {commit_hash}.\")\n",
    "            return None\n",
    "\n",
    "        # AST 파싱: 모든 파일에서 함수 단위로 분할\n",
    "        all_functions = []\n",
    "        for file_path, code in base_code_dict.items():\n",
    "            funcs = split_code_into_functions_ast(code, file_path)\n",
    "            all_functions.extend(funcs)\n",
    "        if not all_functions:\n",
    "            print(f\"No functions found in commit {commit_hash}.\")\n",
    "            return None\n",
    "\n",
    "        # BM25를 이용해 문제 설명과 관련 있는 상위 3개 함수 선택\n",
    "        tokenized_functions = [tokenizer.tokenize(func[\"code\"]) for func in all_functions]\n",
    "        bm25 = BM25Okapi(tokenized_functions)\n",
    "        tokenized_query = tokenizer.tokenize(problem_statement)\n",
    "        doc_scores = bm25.get_scores(tokenized_query)\n",
    "        top_n = 3\n",
    "        top_indices = sorted(range(len(doc_scores)), key=lambda i: doc_scores[i], reverse=True)[:top_n]\n",
    "        selected_functions = [all_functions[i] for i in top_indices]\n",
    "\n",
    "        # 선택된 함수 정보를 결합하여 prompt 구성\n",
    "        selected_code = \"\"\n",
    "        for func in selected_functions:\n",
    "            selected_code += f\"File: {func['filepath']}, Function: {func['name']}\\n\"\n",
    "            selected_code += f\"Start Line: {func['start_line']}, End Line: {func['end_line']}\\n\"\n",
    "            selected_code += f\"Code:\\n{func['code']}\\n\\n\"\n",
    "\n",
    "        prompt_input = f\"Issue: {problem_statement}\\nCode Context:\\n{selected_code}\\nTask: Provide a patch to fix the issue.\"\n",
    "\n",
    "        # 입력 텍스트를 512 토큰 이내로 제한\n",
    "        input_tokens = tokenizer.encode(prompt_input)\n",
    "        if len(input_tokens) > 512:\n",
    "            input_tokens = input_tokens[:512]\n",
    "        input_text = tokenizer.decode(input_tokens, skip_special_tokens=True)\n",
    "        inputs = tokenizer(input_text, return_tensors=\"pt\", max_length=512, truncation=True, padding=\"max_length\").to(device)\n",
    "\n",
    "        # CodeT5를 사용하여 패치 생성 (beam search 사용)\n",
    "        with torch.no_grad():\n",
    "            outputs = model.generate(\n",
    "                **inputs,\n",
    "                max_new_tokens=256,\n",
    "                pad_token_id=tokenizer.eos_token_id,\n",
    "                num_beams=5,\n",
    "                early_stopping=True\n",
    "            )\n",
    "        patch = tokenizer.decode(outputs[0], skip_special_tokens=True)\n",
    "        return patch\n",
    "\n",
    "    except Exception as e:\n",
    "        print(f\"[Error in generate_patch] {e}\")\n",
    "        return None"
   ]
  },
  {
   "cell_type": "code",
   "execution_count": null,
   "metadata": {
    "vscode": {
     "languageId": "plaintext"
    }
   },
   "outputs": [],
   "source": [
    "# 생성된 패치를 저장할 폴더 생성\n",
    "output_dir = \"initial_patches\"\n",
    "os.makedirs(output_dir, exist_ok=True)\n",
    "\n",
    "# 테스트 데이터셋의 각 예제에 대해 패치 생성 및 저장\n",
    "for idx, example in enumerate(tqdm(test_dataset, desc=\"Generating Initial Patches\")):\n",
    "    patch = generate_patch(example)\n",
    "    if patch:\n",
    "        # UTF-8 인코딩으로 저장 (유니코드 인코딩 에러 방지)\n",
    "        with open(os.path.join(output_dir, f\"patch_{idx}.txt\"), \"w\", encoding=\"utf-8\") as f:\n",
    "            f.write(patch)\n",
    "        print(f\"--- Example {idx} Patch ---\")\n",
    "        print(patch)\n",
    "    else:\n",
    "        print(f\"--- Example {idx} Skipped ---\")\n",
    "    time.sleep(1)"
   ]
  }
 ],
 "metadata": {
  "language_info": {
   "name": "python"
  }
 },
 "nbformat": 4,
 "nbformat_minor": 2
}
